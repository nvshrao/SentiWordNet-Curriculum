{
  "nbformat": 4,
  "nbformat_minor": 0,
  "metadata": {
    "colab": {
      "name": "SentiWordNet Auxiliary Curriculum",
      "provenance": [],
      "collapsed_sections": [],
      "toc_visible": true,
      "machine_shape": "hm"
    },
    "language_info": {
      "codemirror_mode": {
        "name": "ipython",
        "version": 3
      },
      "file_extension": ".py",
      "mimetype": "text/x-python",
      "name": "python",
      "nbconvert_exporter": "python",
      "pygments_lexer": "ipython3",
      "version": "3.5.2"
    },
    "kernelspec": {
      "name": "python3",
      "display_name": "Python 3"
    },
    "accelerator": "GPU"
  },
  "cells": [
    {
      "cell_type": "code",
      "metadata": {
        "nbpresent": {
          "id": "a1d001ff-4919-4660-ba59-166fb0337546"
        },
        "id": "juc30CFKy-Zl"
      },
      "source": [
        "%matplotlib inline\n",
        "#!/usr/bin/python\n",
        "#from __future__ import unicode_literals\"\"\"\"\"\""
      ],
      "execution_count": null,
      "outputs": []
    },
    {
      "cell_type": "code",
      "metadata": {
        "nbpresent": {
          "id": "a0bd5609-1892-4e70-8be6-8a681f0f5b11"
        },
        "id": "KX17NY63y-Zs"
      },
      "source": [
        "import numpy as np\n",
        "from collections import Counter\n",
        "from operator import itemgetter\n",
        "import matplotlib.pyplot as plt\n",
        "from copy import deepcopy\n",
        "import re\n",
        "\n",
        "from sklearn.feature_extraction.text import TfidfVectorizer\n",
        "from sklearn.metrics.pairwise import cosine_similarity\n",
        "from sklearn.model_selection import train_test_split\n",
        "from gensim.summarization import bm25\n",
        "import nltk\n",
        "import numpy as np\n",
        "import random\n",
        "import pickle\n",
        "import scipy\n",
        "import sklearn\n",
        "import tqdm"
      ],
      "execution_count": null,
      "outputs": []
    },
    {
      "cell_type": "code",
      "metadata": {
        "id": "_BBMBy0oy-bX"
      },
      "source": [
        "from tensorflow.keras.preprocessing.sequence import pad_sequences\n",
        "from tensorflow.keras.preprocessing.text import Tokenizer\n",
        "from tensorflow.keras.callbacks import ModelCheckpoint,EarlyStopping\n",
        "#from keras.preprocessing import sequence\n",
        "from tensorflow.keras.models import Sequential,Model\n",
        "from tensorflow.keras.layers import Dense, Dropout, Activation,concatenate,Embedding,LSTM,Conv1D,MaxPooling1D,Flatten,Input,Bidirectional,LSTM,Concatenate,TimeDistributed\n",
        "from tensorflow.keras.layers import Subtract,Lambda,Add,Conv1D,Dot\n",
        "#from tensorflow.keras.utils.vis_utils import model_to_dot\t\n",
        "from tensorflow.keras.utils import plot_model,to_categorical\n",
        "from IPython.display import SVG\n",
        "#SVG(model_to_dot(model).create(prog='dot', format='svg'))\n"
      ],
      "execution_count": null,
      "outputs": []
    },
    {
      "cell_type": "markdown",
      "metadata": {
        "nbpresent": {
          "id": "d2a5a6b1-3728-4ee2-bd5d-d4e4d2fe1cdc"
        },
        "id": "mSzzeWCey-bu"
      },
      "source": [
        "## load embedding model"
      ]
    },
    {
      "cell_type": "markdown",
      "metadata": {
        "id": "AK5aNny7-suI"
      },
      "source": [
        ""
      ]
    },
    {
      "cell_type": "code",
      "metadata": {
        "nbpresent": {
          "id": "00c11d12-c5c4-4c36-9126-27e7663c78b8"
        },
        "id": "BgIjOubhy-bz",
        "outputId": "0941ac72-b5bf-4574-c9bf-2e47402f8fe3",
        "colab": {
          "base_uri": "https://localhost:8080/",
          "height": 34
        }
      },
      "source": [
        "\"\"\"\n",
        "PATH=\"/media/anvesh/Garden of EDEN/Academics/embedding_models/eng/\"\n",
        "from gensim.models import KeyedVectors\n",
        "embedding_model=KeyedVectors.load_word2vec_format(PATH + \"wiki-news-300d-1M.vec\")\n",
        "embedding_model=pickle.load(open(\"mrfasttext.pickle\",\"rb\"))\n",
        "\"\"\""
      ],
      "execution_count": null,
      "outputs": [
        {
          "output_type": "execute_result",
          "data": {
            "application/vnd.google.colaboratory.intrinsic+json": {
              "type": "string"
            },
            "text/plain": [
              "'\\nPATH=\"/media/anvesh/Garden of EDEN/Academics/embedding_models/eng/\"\\n\\n\\nfrom gensim.models import KeyedVectors\\nembedding_model=KeyedVectors.load_word2vec_format(PATH + \"wiki-news-300d-1M.vec\")\\n\\n\\nembedding_model=pickle.load(open(\"mrfasttext.pickle\",\"rb\"))\\n'"
            ]
          },
          "metadata": {
            "tags": []
          },
          "execution_count": 48
        }
      ]
    },
    {
      "cell_type": "code",
      "metadata": {
        "id": "ojr1ppoK0pQM"
      },
      "source": [
        "!wget https://nlp.stanford.edu/data/glove.840B.300d.zip\n",
        "from zipfile import ZipFile\n",
        "with ZipFile('glove.840B.300d.zip','r') as f:\n",
        "  f.extractall()\n",
        "  \n",
        "!rm -rf glove.840B.300d.zip\n",
        "\n",
        "embedding_index = {}\n",
        "with open('glove.840B.300d.txt','r',encoding='utf-8') as f1:\n",
        "  for line in f1.readlines():\n",
        "    words = line.split(' ')\n",
        "    word = words[0]\n",
        "    embedding_vec = np.asarray(words[1:],dtype='float32')\n",
        "    embedding_index[word] = embedding_vec"
      ],
      "execution_count": null,
      "outputs": []
    },
    {
      "cell_type": "markdown",
      "metadata": {
        "nbpresent": {
          "id": "d0f23d7d-9814-415d-8a79-8822b904bd97"
        },
        "id": "GbOlsqc9y-b6"
      },
      "source": [
        "## Load SST"
      ]
    },
    {
      "cell_type": "code",
      "metadata": {
        "id": "82xxALfg2LIh"
      },
      "source": [
        "#from google.colab import files\n",
        "#files.upload()"
      ],
      "execution_count": null,
      "outputs": []
    },
    {
      "cell_type": "code",
      "metadata": {
        "id": "M3WCM8ne9WDj"
      },
      "source": [
        "!wget https://github.com/harvardnlp/sent-conv-torch/raw/master/data/stsa.fine.dev\n",
        "!wget https://raw.githubusercontent.com/harvardnlp/sent-conv-torch/master/data/stsa.fine.phrases.train\n",
        "!wget https://github.com/harvardnlp/sent-conv-torch/raw/master/data/stsa.fine.train\n",
        "!wget https://github.com/harvardnlp/sent-conv-torch/raw/master/data/stsa.fine.test"
      ],
      "execution_count": null,
      "outputs": []
    },
    {
      "cell_type": "code",
      "metadata": {
        "id": "Rpwgm2f3hrxC"
      },
      "source": [
        "DPATH=\"./\"\n",
        "train=open(DPATH+\"stsa.fine.train\",\"r\",encoding=\"ISO-8859-1\").readlines()\n",
        "test=open(DPATH+\"stsa.fine.test\",\"r\",encoding=\"ISO-8859-1\").readlines()\n",
        "dev=open(DPATH+\"stsa.fine.dev\",\"r\",encoding=\"ISO-8859-1\").readlines()\n",
        "phras=open(DPATH+\"stsa.fine.phrases.train\",\"r\",encoding=\"ISO-8859-1\").readlines()\n",
        "train=[[int(i[0]),re.split(r'\\d\\s',i)[1].strip()] for i in train]\n",
        "test=[[int(i[0]),re.split(r'\\d\\s',i)[1].strip()] for i in test]\n",
        "dev=[[int(i[0]),re.split(r'\\d\\s',i)[1].strip()] for i in dev]\n",
        "phras=[[int(i[0]),re.split(r'\\d\\s',i)[1].strip()] for i in phras]\n",
        "trainlabels,traindata=list(zip(*train))\n",
        "testlabels,testdata=list(zip(*test))\n",
        "devlabels,devdata=list(zip(*dev))"
      ],
      "execution_count": null,
      "outputs": []
    },
    {
      "cell_type": "code",
      "metadata": {
        "id": "vf_TFKGhKtCl"
      },
      "source": [
        "embedding_model=embedding_index"
      ],
      "execution_count": null,
      "outputs": []
    },
    {
      "cell_type": "code",
      "metadata": {
        "id": "otJ972-di6uD"
      },
      "source": [
        "Data=traindata"
      ],
      "execution_count": null,
      "outputs": []
    },
    {
      "cell_type": "code",
      "metadata": {
        "id": "EtP4kFQTy-cM"
      },
      "source": [
        "print(\"Average sentence length is \",np.average([len(i.split(\" \")) for i in Data]))\n",
        "print(\"Maximum sentence length is \",max([len(i.split(\" \")) for i in Data]))\n",
        "\n",
        "#rain_test_split()"
      ],
      "execution_count": null,
      "outputs": []
    },
    {
      "cell_type": "code",
      "metadata": {
        "nbpresent": {
          "id": "70e02807-e5d2-49ad-bad0-6e8f37df4d55"
        },
        "id": "4hx0scOZy-cW",
        "outputId": "eac9cc75-446c-4c0c-fa05-7281f35c2ee4",
        "colab": {
          "base_uri": "https://localhost:8080/",
          "height": 66
        }
      },
      "source": [
        "Tx=50\n",
        "d=300\n",
        "c=len(set(trainlabels))\n",
        "tokenizer = Tokenizer(num_words=10000)\n",
        "tokenizer.fit_on_texts(Data+devdata)\n",
        "sequences = tokenizer.texts_to_sequences(Data)\n",
        "word_index = tokenizer.word_index\n",
        "print('Found %s unique tokens.' % len(word_index))\n",
        "\n",
        "data = pad_sequences(sequences, maxlen=Tx)\n",
        "\n",
        "print('Shape of Input:', data.shape)\n",
        "#print('Shape of label tensor:', labels.shape)\n",
        "\n",
        "#embedding_model\n",
        "unknown=[]\n",
        "\n",
        "embedding_matrix = np.zeros((len(word_index) + 1, d))\n",
        "for word, i in word_index.items():\n",
        "    if word not in embedding_model:\n",
        "        unknown.append(word)\n",
        "        embedding_matrix[i] = embedding_model[\"unk\"]\n",
        "    else:\n",
        "        embedding_matrix[i] = embedding_model[word]\n",
        "        \n",
        "embedding_layer = Embedding(len(word_index) + 1,d,weights=[embedding_matrix],input_length=Tx,trainable=False)\n",
        "#embedding_layer = Embedding(len(word_index) + 1,d,input_length=Tx,trainable=True)\n",
        "print(len(unknown),len(set(unknown)))"
      ],
      "execution_count": null,
      "outputs": [
        {
          "output_type": "stream",
          "text": [
            "Found 16005 unique tokens.\n",
            "Shape of Input: (8544, 50)\n",
            "474 474\n"
          ],
          "name": "stdout"
        }
      ]
    },
    {
      "cell_type": "markdown",
      "metadata": {
        "nbpresent": {
          "id": "c9e8e635-6868-4802-8b07-9ae9b3c45259"
        },
        "id": "zVN-pTFJy-ca"
      },
      "source": [
        "## Making the Model"
      ]
    },
    {
      "cell_type": "code",
      "metadata": {
        "id": "xKi38Y8ry-cd"
      },
      "source": [
        "X_train=pad_sequences(tokenizer.texts_to_sequences(traindata),maxlen=Tx)\n",
        "X_test=pad_sequences(tokenizer.texts_to_sequences(testdata),maxlen=Tx)\n",
        "X_dev=pad_sequences(tokenizer.texts_to_sequences(devdata),maxlen=Tx)\n",
        "y_train=to_categorical(trainlabels,num_classes=c)\n",
        "y_test=to_categorical(testlabels,num_classes=c)\n",
        "y_dev=to_categorical(devlabels,num_classes=c)"
      ],
      "execution_count": null,
      "outputs": []
    },
    {
      "cell_type": "code",
      "metadata": {
        "id": "hRTDzUsk1uvh",
        "outputId": "739dad22-3a98-4ee7-d3c2-e154b78ac4e5",
        "colab": {
          "base_uri": "https://localhost:8080/",
          "height": 33
        }
      },
      "source": [
        "############ SHORTEN\n",
        "X_train.shape,X_test.shape,X_dev.shape,y_train.shape,y_test.shape,y_dev.shape"
      ],
      "execution_count": null,
      "outputs": [
        {
          "output_type": "execute_result",
          "data": {
            "text/plain": [
              "((8544, 50), (2210, 50), (1101, 50), (8544, 5), (2210, 5), (1101, 5))"
            ]
          },
          "metadata": {
            "tags": []
          },
          "execution_count": 34
        }
      ]
    },
    {
      "cell_type": "code",
      "metadata": {
        "id": "jhygDQzYDlC2"
      },
      "source": [
        ""
      ],
      "execution_count": null,
      "outputs": []
    },
    {
      "cell_type": "code",
      "metadata": {
        "id": "PvWk4zouy-ch",
        "outputId": "bec8323e-086f-4ac7-d596-20ae5b6ed0f2",
        "colab": {
          "base_uri": "https://localhost:8080/",
          "height": 505
        }
      },
      "source": [
        "def my_model_():\n",
        "  In=Input(shape=(Tx,),name=\"Input_Sentence\")\n",
        "  o=embedding_layer(In)\n",
        "  o=(LSTM(165,return_sequences=False))(o)\n",
        "  o=Dense(c,activation=\"softmax\")(o)\n",
        "  model=Model(inputs=In,outputs=o)\n",
        "  return model\n",
        "\n",
        "def my_model_():\n",
        "  In=Input(shape=(Tx,),name=\"Input_Sentence\")\n",
        "  o=embedding_layer(In)\n",
        "  o1=(Conv1D(filters=50,kernel_size=5))(o)\n",
        "  o1=(MaxPooling1D(Tx - 4))(o1)\n",
        "  o1=Flatten()(o1)\n",
        "\n",
        "  o2=(Conv1D(filters=50,kernel_size=4))(o)\n",
        "  o2=(MaxPooling1D(Tx -3))(o2)\n",
        "  o2=Flatten()(o2)\n",
        "  \n",
        "  o3=(Conv1D(filters=50,kernel_size=3))(o)\n",
        "  o3=(MaxPooling1D(Tx - 2))(o3)\n",
        "  o3=Flatten()(o3)\n",
        "  \n",
        "  o=Concatenate()([o1,o2,o3])\n",
        "  o=Dense(c,activation=\"softmax\")(o)\n",
        "  model=Model(inputs=In,outputs=o)\n",
        "  return model\n",
        "\n",
        "def Attention2layer(units,lo):\n",
        "  edense1=TimeDistributed(Dense(units,activation=\"tanh\",use_bias=True),name=\"dense1\")(lo)\n",
        "  edense2=TimeDistributed(Dense(1,activation=\"linear\",use_bias=True),name=\"dense2\")(edense1)\n",
        "  #temp=Reshape((20))(edense2)\n",
        "  temp=Flatten()(edense2)\n",
        "  print(temp.shape)\n",
        "  alp=Activation(\"softmax\")(temp)\n",
        "  dot=Dot(axes=1)([alp,lo])\n",
        "  return dot\n",
        "\n",
        "def my_model():\n",
        "  I=Input(shape=(Tx,),name=\"Input_Sentence\")\n",
        "  si=embedding_layer(I)\n",
        "  lo=(LSTM(168,return_sequences=True))(si)\n",
        "  ao=Attention2layer(10,lo)\n",
        "  do=Dense(100,activation=\"relu\")(ao)\n",
        "  o=Dense(c,activation=\"softmax\")(do)\n",
        "  model=Model(inputs=I,outputs=o)\n",
        "  return model\n",
        "\n",
        "def fit_model(XX,yy,model,verbose=0,epochs=25):\n",
        "  model.compile(loss=\"categorical_crossentropy\",metrics=[\"acc\"],optimizer=\"Adam\")\n",
        "  es = EarlyStopping(monitor='val_loss', mode='min', verbose=verbose, patience=10,restore_best_weights=True)\n",
        "  history=model.fit(x=XX,y=yy,epochs=epochs,batch_size=130,validation_data=[X_dev,y_dev],callbacks=[es],verbose=verbose)\n",
        "  return model\n",
        "\n",
        "def indexer(test_list,index_list,nparr=True):\n",
        "  if nparr==True:\n",
        "    return np.array([test_list[i] for i in index_list])\n",
        "  else:\n",
        "    return [test_list[i] for i in index_list]\n",
        "\n",
        "model=my_model()\n",
        "model.summary()\n",
        "#SVG(model_to_dot(model).create(prog='dot', format='svg'))"
      ],
      "execution_count": null,
      "outputs": [
        {
          "output_type": "stream",
          "text": [
            "(None, 50)\n",
            "Model: \"model_1\"\n",
            "__________________________________________________________________________________________________\n",
            "Layer (type)                    Output Shape         Param #     Connected to                     \n",
            "==================================================================================================\n",
            "Input_Sentence (InputLayer)     [(None, 50)]         0                                            \n",
            "__________________________________________________________________________________________________\n",
            "embedding (Embedding)           (None, 50, 300)      4801800     Input_Sentence[0][0]             \n",
            "__________________________________________________________________________________________________\n",
            "lstm (LSTM)                     (None, 50, 165)      307560      embedding[0][0]                  \n",
            "__________________________________________________________________________________________________\n",
            "dense1 (TimeDistributed)        (None, 50, 10)       1660        lstm[0][0]                       \n",
            "__________________________________________________________________________________________________\n",
            "dense2 (TimeDistributed)        (None, 50, 1)        11          dense1[0][0]                     \n",
            "__________________________________________________________________________________________________\n",
            "flatten (Flatten)               (None, 50)           0           dense2[0][0]                     \n",
            "__________________________________________________________________________________________________\n",
            "activation (Activation)         (None, 50)           0           flatten[0][0]                    \n",
            "__________________________________________________________________________________________________\n",
            "dot (Dot)                       (None, 165)          0           activation[0][0]                 \n",
            "                                                                 lstm[0][0]                       \n",
            "__________________________________________________________________________________________________\n",
            "dense_7 (Dense)                 (None, 100)          16600       dot[0][0]                        \n",
            "__________________________________________________________________________________________________\n",
            "dense_8 (Dense)                 (None, 5)            505         dense_7[0][0]                    \n",
            "==================================================================================================\n",
            "Total params: 5,128,136\n",
            "Trainable params: 326,336\n",
            "Non-trainable params: 4,801,800\n",
            "__________________________________________________________________________________________________\n"
          ],
          "name": "stdout"
        }
      ]
    },
    {
      "cell_type": "markdown",
      "metadata": {
        "id": "Vl-gSZSHy-cm"
      },
      "source": [
        "## Non Curriculum"
      ]
    },
    {
      "cell_type": "code",
      "metadata": {
        "scrolled": true,
        "id": "8NEyFnuZy-co"
      },
      "source": [
        "model.compile(loss=\"categorical_crossentropy\",metrics=[\"acc\"],optimizer=\"Adam\")\n",
        "es = EarlyStopping(monitor='val_loss', mode='min', verbose=1, patience=10,restore_best_weights=True)\n",
        "history=model.fit(x=X_train,y=y_train,epochs=30,batch_size=120,validation_data=[X_dev,y_dev],callbacks=[es])"
      ],
      "execution_count": null,
      "outputs": []
    },
    {
      "cell_type": "code",
      "metadata": {
        "id": "Wbhinz0my-c5"
      },
      "source": [
        "plt.plot(history.history[\"acc\"])\n",
        "plt.plot(history.history[\"val_acc\"])"
      ],
      "execution_count": null,
      "outputs": []
    },
    {
      "cell_type": "code",
      "metadata": {
        "id": "_ISYXbUeF8Oo"
      },
      "source": [
        "model.evaluate(X_dev,y_dev,verbose=0)[1],model.evaluate(X_test,y_test,verbose=0)[1],model.evaluate(X_train,y_train,verbose=0)[1]"
      ],
      "execution_count": null,
      "outputs": []
    },
    {
      "cell_type": "markdown",
      "metadata": {
        "id": "mhvUJlRCGq-6"
      },
      "source": [
        "Multiple Runs"
      ]
    },
    {
      "cell_type": "code",
      "metadata": {
        "id": "Ky632fp7Umm1",
        "outputId": "e752514a-4e3e-4a21-f814-667ebe5e77b1",
        "colab": {
          "base_uri": "https://localhost:8080/",
          "height": 342
        }
      },
      "source": [
        "ncc=[]\n",
        "for i in np.arange(10):\n",
        "  model=my_model()\n",
        "  model=fit_model(X_train,y_train,model,verbose=0,epochs=30)\n",
        "  ncc.append(model.evaluate(X_test,y_test)[1])\n",
        "NC=np.mean(ncc)"
      ],
      "execution_count": null,
      "outputs": [
        {
          "output_type": "stream",
          "text": [
            "(None, 50)\n",
            "70/70 [==============================] - 0s 7ms/step - loss: 1.3375 - acc: 0.4181\n",
            "(None, 50)\n",
            "70/70 [==============================] - 0s 7ms/step - loss: 1.3290 - acc: 0.4195\n",
            "(None, 50)\n",
            "70/70 [==============================] - 0s 7ms/step - loss: 1.3408 - acc: 0.4140\n",
            "(None, 50)\n",
            "70/70 [==============================] - 0s 7ms/step - loss: 1.3767 - acc: 0.4063\n",
            "(None, 50)\n",
            "70/70 [==============================] - 0s 7ms/step - loss: 1.3504 - acc: 0.4136\n",
            "(None, 50)\n",
            "70/70 [==============================] - 0s 7ms/step - loss: 1.3437 - acc: 0.4090\n",
            "(None, 50)\n",
            "70/70 [==============================] - 0s 7ms/step - loss: 1.3483 - acc: 0.4140\n",
            "(None, 50)\n",
            "70/70 [==============================] - 0s 7ms/step - loss: 1.3355 - acc: 0.4199\n",
            "(None, 50)\n",
            "70/70 [==============================] - 0s 7ms/step - loss: 1.3160 - acc: 0.4357\n",
            "(None, 50)\n",
            "70/70 [==============================] - 0s 7ms/step - loss: 1.3209 - acc: 0.4167\n"
          ],
          "name": "stdout"
        }
      ]
    },
    {
      "cell_type": "code",
      "metadata": {
        "id": "lWPoJ8spFwut",
        "outputId": "024c307f-a429-48bc-c4d9-db53b227a348",
        "colab": {
          "base_uri": "https://localhost:8080/",
          "height": 196
        }
      },
      "source": [
        "ncc, NC"
      ],
      "execution_count": null,
      "outputs": [
        {
          "output_type": "execute_result",
          "data": {
            "text/plain": [
              "([0.4180995523929596,\n",
              "  0.41945701837539673,\n",
              "  0.4140271544456482,\n",
              "  0.40633484721183777,\n",
              "  0.4135746657848358,\n",
              "  0.40904977917671204,\n",
              "  0.4140271544456482,\n",
              "  0.4199095070362091,\n",
              "  0.43574661016464233,\n",
              "  0.41674208641052246],\n",
              " 0.4166968375444412)"
            ]
          },
          "metadata": {
            "tags": []
          },
          "execution_count": 36
        }
      ]
    },
    {
      "cell_type": "markdown",
      "metadata": {
        "id": "06tOeo0HIFZQ"
      },
      "source": [
        "## Aux Task Sentiwordnet"
      ]
    },
    {
      "cell_type": "code",
      "metadata": {
        "id": "IsruQPCnHkFU",
        "outputId": "9f4b845c-5ace-4164-e44d-2e787d001156",
        "colab": {
          "base_uri": "https://localhost:8080/",
          "height": 173
        }
      },
      "source": [
        "import nltk\n",
        "nltk.download('sentiwordnet')\n",
        "nltk.download('wordnet')\n",
        "nltk.download('averaged_perceptron_tagger')\n",
        "nltk.download('punkt')\n",
        "from nltk.corpus import sentiwordnet as swn"
      ],
      "execution_count": null,
      "outputs": [
        {
          "output_type": "stream",
          "text": [
            "[nltk_data] Downloading package sentiwordnet to /root/nltk_data...\n",
            "[nltk_data]   Unzipping corpora/sentiwordnet.zip.\n",
            "[nltk_data] Downloading package wordnet to /root/nltk_data...\n",
            "[nltk_data]   Unzipping corpora/wordnet.zip.\n",
            "[nltk_data] Downloading package averaged_perceptron_tagger to\n",
            "[nltk_data]     /root/nltk_data...\n",
            "[nltk_data]   Unzipping taggers/averaged_perceptron_tagger.zip.\n",
            "[nltk_data] Downloading package punkt to /root/nltk_data...\n",
            "[nltk_data]   Unzipping tokenizers/punkt.zip.\n"
          ],
          "name": "stdout"
        }
      ]
    },
    {
      "cell_type": "code",
      "metadata": {
        "id": "-ACgh72Lql7F"
      },
      "source": [
        "import itertools\n",
        "vocab = list(set(list(itertools.chain.from_iterable([i.split() for i in traindata]))))\n",
        "def score_d(word):\n",
        " # print(word)\n",
        "  k = [(i.pos_score(),i.neg_score(),i.obj_score()) for i in list(swn.senti_synsets(word))]\n",
        "  try:\n",
        "    maxpos = max(list(zip(*k))[0])\n",
        "    maxneg = max(list(zip(*k))[1])\n",
        "    return maxpos + maxneg\n",
        "  except:\n",
        "    return 0"
      ],
      "execution_count": null,
      "outputs": []
    },
    {
      "cell_type": "code",
      "metadata": {
        "id": "D9-10R-_rK1K"
      },
      "source": [
        "d = [score_d(i) for i in vocab]"
      ],
      "execution_count": null,
      "outputs": []
    },
    {
      "cell_type": "code",
      "metadata": {
        "id": "3qn14lgZr1bW",
        "outputId": "07f6023e-1250-4d79-bbc8-7e51ed5184e7",
        "colab": {
          "base_uri": "https://localhost:8080/",
          "height": 208
        }
      },
      "source": [
        "sorted_vocab = [x for _,x in sorted(zip(d,vocab),reverse=True)]\n",
        "sorted_vocab[:10],sorted(d,reverse=True)[:10]"
      ],
      "execution_count": null,
      "outputs": [
        {
          "output_type": "execute_result",
          "data": {
            "text/plain": [
              "(['soft',\n",
              "  'pretty',\n",
              "  'prettiest',\n",
              "  'meanest',\n",
              "  'mean',\n",
              "  'bully',\n",
              "  'awful',\n",
              "  'worse',\n",
              "  'sweetest',\n",
              "  'sweet'],\n",
              " [1.75, 1.75, 1.75, 1.75, 1.75, 1.75, 1.75, 1.625, 1.625, 1.625])"
            ]
          },
          "metadata": {
            "tags": []
          },
          "execution_count": 101
        }
      ]
    },
    {
      "cell_type": "code",
      "metadata": {
        "id": "d4McLh4jCfUf",
        "outputId": "34bef5f5-7c91-43a4-9a7c-c7558414e8a6",
        "colab": {
          "base_uri": "https://localhost:8080/",
          "height": 138
        }
      },
      "source": [
        "word=\"awful\"\n",
        "[(i.synset).definition() for i in list(swn.senti_synsets(word))]"
      ],
      "execution_count": null,
      "outputs": [
        {
          "output_type": "execute_result",
          "data": {
            "text/plain": [
              "['exceptionally bad or displeasing',\n",
              " 'causing fear or dread or terror',\n",
              " 'offensive or even (of persons) malicious',\n",
              " 'inspired by a feeling of fearful wonderment or reverence',\n",
              " 'extreme in degree or extent or amount or impact',\n",
              " 'inspiring awe or admiration or wonder',\n",
              " 'used as intensifiers']"
            ]
          },
          "metadata": {
            "tags": []
          },
          "execution_count": 109
        }
      ]
    },
    {
      "cell_type": "code",
      "metadata": {
        "id": "8Ux4DOwPDcD1",
        "outputId": "c50fccb0-10ad-4894-ccb9-378ea054188b",
        "colab": {
          "base_uri": "https://localhost:8080/",
          "height": 138
        }
      },
      "source": [
        "[(i.pos_score(),i.neg_score(),i.obj_score()) for i in list(swn.senti_synsets(word))]"
      ],
      "execution_count": null,
      "outputs": [
        {
          "output_type": "execute_result",
          "data": {
            "text/plain": [
              "[(0.0, 0.875, 0.125),\n",
              " (0.0, 0.625, 0.375),\n",
              " (0.0, 0.875, 0.125),\n",
              " (0.5, 0.5, 0.0),\n",
              " (0.125, 0.25, 0.625),\n",
              " (0.875, 0.125, 0.0),\n",
              " (0.25, 0.0, 0.75)]"
            ]
          },
          "metadata": {
            "tags": []
          },
          "execution_count": 110
        }
      ]
    },
    {
      "cell_type": "code",
      "metadata": {
        "id": "9iubN7r68_sk",
        "outputId": "35795771-966a-43ac-aabb-237abf82207e",
        "colab": {
          "base_uri": "https://localhost:8080/",
          "height": 554
        }
      },
      "source": [
        "[(i.synset).examples() for i in list(swn.senti_synsets(word))]"
      ],
      "execution_count": null,
      "outputs": [
        {
          "output_type": "execute_result",
          "data": {
            "text/plain": [
              "[['atrocious taste',\n",
              "  'abominable workmanship',\n",
              "  'an awful voice',\n",
              "  'dreadful manners',\n",
              "  'a painful performance',\n",
              "  'terrible handwriting',\n",
              "  'an unspeakable odor came sweeping into the room'],\n",
              " ['the awful war',\n",
              "  'an awful risk',\n",
              "  'dire news',\n",
              "  'a career or vengeance so direful that London was shocked',\n",
              "  'the dread presence of the headmaster',\n",
              "  'polio is no longer the dreaded disease it once was',\n",
              "  'a dreadful storm',\n",
              "  'a fearful howling',\n",
              "  'horrendous explosions shook the city',\n",
              "  'a terrible curse'],\n",
              " ['in a nasty mood',\n",
              "  'a nasty accident',\n",
              "  'a nasty shock',\n",
              "  'a nasty smell',\n",
              "  'a nasty trick to pull',\n",
              "  'Will he say nasty things at my funeral?\"- Ezra Pound'],\n",
              " ['awed by the silence', 'awful worshippers with bowed heads'],\n",
              " ['in a frightful hurry', 'spent a frightful amount of money'],\n",
              " ['New York is an amazing city',\n",
              "  'the Grand Canyon is an awe-inspiring sight',\n",
              "  'the awesome complexity of the universe',\n",
              "  'this sea, whose gently awful stirrings seem to speak of some hidden soul beneath\"- Melville',\n",
              "  \"Westminster Hall's awing majesty, so vast, so high, so silent\"],\n",
              " ['terribly interesting', \"I'm awful sorry\"]]"
            ]
          },
          "metadata": {
            "tags": []
          },
          "execution_count": 111
        }
      ]
    },
    {
      "cell_type": "code",
      "metadata": {
        "id": "KDovAQ8bE_eG",
        "outputId": "d8851312-afb0-4065-c22c-097d481d7ae3",
        "colab": {
          "base_uri": "https://localhost:8080/",
          "height": 69
        }
      },
      "source": [
        "[i for i in list(swn.senti_synsets(word))]"
      ],
      "execution_count": null,
      "outputs": [
        {
          "output_type": "execute_result",
          "data": {
            "text/plain": [
              "[SentiSynset('pretty.s.01'),\n",
              " SentiSynset('pretty.s.02'),\n",
              " SentiSynset('reasonably.r.01')]"
            ]
          },
          "metadata": {
            "tags": []
          },
          "execution_count": 104
        }
      ]
    },
    {
      "cell_type": "code",
      "metadata": {
        "id": "bcQibo20Ix3f"
      },
      "source": [
        "def score(word):\n",
        "  l=list(swn.senti_synsets(word))\n",
        "  if len(l)==0:\n",
        "    return False\n",
        "    #return 0,0,0\n",
        "  pos=[]\n",
        "  neg=[]\n",
        "  obj=[]\n",
        "  for i in l:\n",
        "    if i.pos_score()!=0.0 or i.neg_score()!=0.0:      \n",
        "      pos.append(i.pos_score())\n",
        "      neg.append(i.neg_score())\n",
        "      obj.append(i.obj_score())\n",
        "  #print(pos,neg)\n",
        "  if len(pos)==0:#means neg is also 0:\n",
        "    return False\n",
        "    #return 0,0,0\n",
        "  return(np.mean(pos),np.mean(neg),np.mean(obj))\n",
        "\n",
        "def feature(sentence):\n",
        "  words=sentence.split(\" \")\n",
        "  l=len(words)\n",
        "  pos=0\n",
        "  neg=0\n",
        "  obj=0\n",
        "  for i in words:\n",
        "    if score(i)!=False:\n",
        "      p,n,o=score(i)\n",
        "      #print(p,n,i)\n",
        "      pos=pos+p\n",
        "      neg=neg+n\n",
        "      obj=obj+o\n",
        "  return np.array([l,pos,neg,obj,np.abs(pos-neg),pos/l,neg/l,obj/l,np.abs(pos-neg)/l])### The Higher the Easier"
      ],
      "execution_count": null,
      "outputs": []
    },
    {
      "cell_type": "code",
      "metadata": {
        "id": "2jpMdaOjIMKp"
      },
      "source": [
        "X_train_feat=np.array([feature(i) for i in traindata])\n",
        "X_test_feat=np.array([feature(i) for i in testdata])\n",
        "X_dev_feat=np.array([feature(i) for i in devdata])\n",
        "X_train_feat.shape,X_test_feat.shape,X_dev_feat.shape"
      ],
      "execution_count": null,
      "outputs": []
    },
    {
      "cell_type": "code",
      "metadata": {
        "id": "8E0dHPVzKB-n"
      },
      "source": [
        "#### Normalize aND Transform the vectors\n",
        "from sklearn.preprocessing import MinMaxScaler\n",
        "scaler = MinMaxScaler()\n",
        "scaler.fit(X_train_feat)\n",
        "X_train_feat=scaler.transform(X_train_feat)\n",
        "X_test_feat=scaler.transform(X_test_feat)\n",
        "X_dev_feat = scaler.transform(X_dev_feat)"
      ],
      "execution_count": null,
      "outputs": []
    },
    {
      "cell_type": "code",
      "metadata": {
        "id": "q4Pv8YGOKgaj",
        "outputId": "988a04e0-e632-4e58-f9db-c6b1ae272c8f",
        "colab": {
          "base_uri": "https://localhost:8080/",
          "height": 570
        }
      },
      "source": [
        "I=Input(shape=(9,))\n",
        "o=Dense(100,activation=\"relu\")(I)\n",
        "o=Dense(50,activation=\"relu\")(o)\n",
        "o=Dense(c,activation=\"softmax\")(o)\n",
        "aux_model=Model(inputs=I,outputs=o)\n",
        "#aux_model.summary()\n",
        "aux_model.compile(loss=\"categorical_crossentropy\",metrics=[\"acc\"],optimizer=\"Adam\")\n",
        "es = EarlyStopping(monitor='val_loss', mode='min', verbose=0, patience=10,restore_best_weights=True)\n",
        "history=aux_model.fit(x=X_train_feat,y=y_train,epochs=25,batch_size=130,validation_data=[X_dev_feat,y_dev],callbacks=[es])\n",
        "print(aux_model.evaluate(X_test_feat,y_test)[1])\n",
        "def mse(y,y_hat):\n",
        "  return np.sum(np.square(y-y_hat),axis=1)\n",
        "\n",
        "costs=mse(aux_model.predict(X_train_feat),y_train)\n",
        "aux_sorted_indices=[x for _, x in sorted(zip(costs,np.arange(len(costs))), key=lambda pair: pair[0],reverse=False)]\n",
        "aux_model.predict(np.array(indexer(X_train_feat,aux_sorted_indices[:5]))) , indexer(y_train,aux_sorted_indices[:5])"
      ],
      "execution_count": null,
      "outputs": [
        {
          "output_type": "stream",
          "text": [
            "Epoch 1/25\n",
            "66/66 [==============================] - 0s 5ms/step - loss: 1.5629 - acc: 0.2851 - val_loss: 0.0000e+00 - val_acc: 0.0000e+00\n",
            "Epoch 2/25\n",
            "66/66 [==============================] - 0s 3ms/step - loss: 1.5360 - acc: 0.3040 - val_loss: 0.0000e+00 - val_acc: 0.0000e+00\n",
            "Epoch 3/25\n",
            "66/66 [==============================] - 0s 3ms/step - loss: 1.5235 - acc: 0.3151 - val_loss: 0.0000e+00 - val_acc: 0.0000e+00\n",
            "Epoch 4/25\n",
            "66/66 [==============================] - 0s 3ms/step - loss: 1.5191 - acc: 0.3136 - val_loss: 0.0000e+00 - val_acc: 0.0000e+00\n",
            "Epoch 5/25\n",
            "66/66 [==============================] - 0s 3ms/step - loss: 1.5175 - acc: 0.3141 - val_loss: 0.0000e+00 - val_acc: 0.0000e+00\n",
            "Epoch 6/25\n",
            "66/66 [==============================] - 0s 3ms/step - loss: 1.5167 - acc: 0.3172 - val_loss: 0.0000e+00 - val_acc: 0.0000e+00\n",
            "Epoch 7/25\n",
            "66/66 [==============================] - 0s 3ms/step - loss: 1.5163 - acc: 0.3145 - val_loss: 0.0000e+00 - val_acc: 0.0000e+00\n",
            "Epoch 8/25\n",
            "66/66 [==============================] - 0s 3ms/step - loss: 1.5153 - acc: 0.3185 - val_loss: 0.0000e+00 - val_acc: 0.0000e+00\n",
            "Epoch 9/25\n",
            "66/66 [==============================] - 0s 3ms/step - loss: 1.5145 - acc: 0.3173 - val_loss: 0.0000e+00 - val_acc: 0.0000e+00\n",
            "Epoch 10/25\n",
            "66/66 [==============================] - 0s 3ms/step - loss: 1.5148 - acc: 0.3196 - val_loss: 0.0000e+00 - val_acc: 0.0000e+00\n",
            "Epoch 11/25\n",
            "66/66 [==============================] - 0s 3ms/step - loss: 1.5152 - acc: 0.3184 - val_loss: 0.0000e+00 - val_acc: 0.0000e+00\n",
            "70/70 [==============================] - 0s 2ms/step - loss: 1.5518 - acc: 0.3186\n",
            "0.31855204701423645\n"
          ],
          "name": "stdout"
        },
        {
          "output_type": "execute_result",
          "data": {
            "text/plain": [
              "(array([[0.12283784, 0.3452326 , 0.16814974, 0.24602722, 0.11775268],\n",
              "        [0.14811327, 0.3336949 , 0.17477098, 0.21952428, 0.12389649],\n",
              "        [0.07888478, 0.23731999, 0.13625965, 0.33426538, 0.21327025],\n",
              "        [0.15220566, 0.32517827, 0.17693837, 0.21810414, 0.1275736 ],\n",
              "        [0.1349418 , 0.32616872, 0.1700029 , 0.23580761, 0.13307904]],\n",
              "       dtype=float32), array([[0., 1., 0., 0., 0.],\n",
              "        [0., 1., 0., 0., 0.],\n",
              "        [0., 0., 0., 1., 0.],\n",
              "        [0., 1., 0., 0., 0.],\n",
              "        [0., 1., 0., 0., 0.]], dtype=float32))"
            ]
          },
          "metadata": {
            "tags": []
          },
          "execution_count": 40
        }
      ]
    },
    {
      "cell_type": "code",
      "metadata": {
        "id": "NSo2cA_-TH8G",
        "outputId": "02940853-1c46-4137-85a9-e1bec3144ead",
        "colab": {
          "base_uri": "https://localhost:8080/",
          "height": 330
        }
      },
      "source": [
        "import seaborn as sns\n",
        "sns.heatmap(np.array(sorted(costs,reverse=False)).reshape(1,len(costs)))"
      ],
      "execution_count": null,
      "outputs": [
        {
          "output_type": "stream",
          "text": [
            "/usr/local/lib/python3.6/dist-packages/statsmodels/tools/_testing.py:19: FutureWarning: pandas.util.testing is deprecated. Use the functions in the public API at pandas.testing instead.\n",
            "  import pandas.util.testing as tm\n"
          ],
          "name": "stderr"
        },
        {
          "output_type": "execute_result",
          "data": {
            "text/plain": [
              "<matplotlib.axes._subplots.AxesSubplot at 0x7f26701c7cc0>"
            ]
          },
          "metadata": {
            "tags": []
          },
          "execution_count": 41
        },
        {
          "output_type": "display_data",
          "data": {
            "image/png": "[encoded data removed]",
            "text/plain": [
              "<Figure size 432x288 with 2 Axes>"
            ]
          },
          "metadata": {
            "tags": [],
            "needs_background": "light"
          }
        }
      ]
    },
    {
      "cell_type": "markdown",
      "metadata": {
        "id": "bLN9wn3Ehpa2"
      },
      "source": [
        "### Baby Steps Regular Code"
      ]
    },
    {
      "cell_type": "code",
      "metadata": {
        "id": "Zp-RlrQiNiiL",
        "outputId": "c34eb7e3-81ae-48e4-915a-c235fd864f66",
        "colab": {
          "base_uri": "https://localhost:8080/",
          "height": 1000
        }
      },
      "source": [
        "avg=[]\n",
        "batch_size=1100#LSTM\n",
        "batch_size=1400#cnn\n",
        "batch_size=1100#atLSTM\n",
        "n=int(len(aux_sorted_indices)/batch_size)\n",
        "for _ in np.arange(10):\n",
        "  growth=[]\n",
        "  newX=[]\n",
        "  newy=[]\n",
        "  model1=my_model()\n",
        "  for batch_ind in np.array_split(aux_sorted_indices,n):\n",
        "    newX.extend(indexer(X_train,batch_ind))\n",
        "    newy.extend(indexer(y_train,batch_ind))\n",
        "    model1=fit_model(np.array(newX),np.array(newy),model1,verbose=0,epochs=30)\n",
        "    growth.append(model1.evaluate(X_test,y_test,verbose=0)[1])\n",
        "  plt.plot(growth)\n",
        "  print(growth[-1])\n",
        "  avg.append(growth[-1])\n",
        "  plt.hlines(NC,0, len(growth))\n",
        "plt.show()\n",
        "print(np.average(avg),NC)"
      ],
      "execution_count": null,
      "outputs": [
        {
          "output_type": "stream",
          "text": [
            "(None, 50)\n",
            "datapoints to be searched from this iteration and trained on 1221 datapoints\n",
            "datapoints to be searched from this iteration and trained on 2442 datapoints\n",
            "datapoints to be searched from this iteration and trained on 3663 datapoints\n",
            "datapoints to be searched from this iteration and trained on 4884 datapoints\n",
            "datapoints to be searched from this iteration and trained on 6104 datapoints\n",
            "datapoints to be searched from this iteration and trained on 7324 datapoints\n",
            "datapoints to be searched from this iteration and trained on 8544 datapoints\n",
            "0.4570135772228241\n",
            "(None, 50)\n",
            "datapoints to be searched from this iteration and trained on 1221 datapoints\n",
            "datapoints to be searched from this iteration and trained on 2442 datapoints\n",
            "datapoints to be searched from this iteration and trained on 3663 datapoints\n",
            "datapoints to be searched from this iteration and trained on 4884 datapoints\n",
            "datapoints to be searched from this iteration and trained on 6104 datapoints\n",
            "datapoints to be searched from this iteration and trained on 7324 datapoints\n",
            "datapoints to be searched from this iteration and trained on 8544 datapoints\n",
            "0.4647058844566345\n",
            "(None, 50)\n",
            "datapoints to be searched from this iteration and trained on 1221 datapoints\n",
            "datapoints to be searched from this iteration and trained on 2442 datapoints\n",
            "datapoints to be searched from this iteration and trained on 3663 datapoints\n",
            "datapoints to be searched from this iteration and trained on 4884 datapoints\n",
            "datapoints to be searched from this iteration and trained on 6104 datapoints\n",
            "datapoints to be searched from this iteration and trained on 7324 datapoints\n",
            "datapoints to be searched from this iteration and trained on 8544 datapoints\n",
            "0.4466063380241394\n",
            "(None, 50)\n",
            "datapoints to be searched from this iteration and trained on 1221 datapoints\n",
            "datapoints to be searched from this iteration and trained on 2442 datapoints\n",
            "datapoints to be searched from this iteration and trained on 3663 datapoints\n",
            "datapoints to be searched from this iteration and trained on 4884 datapoints\n",
            "datapoints to be searched from this iteration and trained on 6104 datapoints\n",
            "datapoints to be searched from this iteration and trained on 7324 datapoints\n",
            "datapoints to be searched from this iteration and trained on 8544 datapoints\n",
            "0.44932126998901367\n",
            "(None, 50)\n",
            "datapoints to be searched from this iteration and trained on 1221 datapoints\n",
            "datapoints to be searched from this iteration and trained on 2442 datapoints\n",
            "datapoints to be searched from this iteration and trained on 3663 datapoints\n",
            "datapoints to be searched from this iteration and trained on 4884 datapoints\n",
            "datapoints to be searched from this iteration and trained on 6104 datapoints\n",
            "datapoints to be searched from this iteration and trained on 7324 datapoints\n",
            "datapoints to be searched from this iteration and trained on 8544 datapoints\n",
            "0.4547511339187622\n",
            "(None, 50)\n",
            "datapoints to be searched from this iteration and trained on 1221 datapoints\n",
            "datapoints to be searched from this iteration and trained on 2442 datapoints\n",
            "datapoints to be searched from this iteration and trained on 3663 datapoints\n",
            "datapoints to be searched from this iteration and trained on 4884 datapoints\n",
            "datapoints to be searched from this iteration and trained on 6104 datapoints\n",
            "datapoints to be searched from this iteration and trained on 7324 datapoints\n",
            "datapoints to be searched from this iteration and trained on 8544 datapoints\n",
            "0.4574660658836365\n",
            "(None, 50)\n",
            "datapoints to be searched from this iteration and trained on 1221 datapoints\n",
            "datapoints to be searched from this iteration and trained on 2442 datapoints\n",
            "datapoints to be searched from this iteration and trained on 3663 datapoints\n",
            "datapoints to be searched from this iteration and trained on 4884 datapoints\n",
            "datapoints to be searched from this iteration and trained on 6104 datapoints\n",
            "datapoints to be searched from this iteration and trained on 7324 datapoints\n",
            "datapoints to be searched from this iteration and trained on 8544 datapoints\n",
            "0.45565611124038696\n",
            "(None, 50)\n",
            "datapoints to be searched from this iteration and trained on 1221 datapoints\n",
            "datapoints to be searched from this iteration and trained on 2442 datapoints\n",
            "datapoints to be searched from this iteration and trained on 3663 datapoints\n",
            "datapoints to be searched from this iteration and trained on 4884 datapoints\n",
            "datapoints to be searched from this iteration and trained on 6104 datapoints\n",
            "datapoints to be searched from this iteration and trained on 7324 datapoints\n",
            "datapoints to be searched from this iteration and trained on 8544 datapoints\n",
            "0.44751131534576416\n",
            "(None, 50)\n",
            "datapoints to be searched from this iteration and trained on 1221 datapoints\n",
            "datapoints to be searched from this iteration and trained on 2442 datapoints\n",
            "datapoints to be searched from this iteration and trained on 3663 datapoints\n",
            "datapoints to be searched from this iteration and trained on 4884 datapoints\n",
            "datapoints to be searched from this iteration and trained on 6104 datapoints\n",
            "datapoints to be searched from this iteration and trained on 7324 datapoints\n",
            "datapoints to be searched from this iteration and trained on 8544 datapoints\n",
            "0.4466063380241394\n",
            "(None, 50)\n",
            "datapoints to be searched from this iteration and trained on 1221 datapoints\n",
            "datapoints to be searched from this iteration and trained on 2442 datapoints\n",
            "datapoints to be searched from this iteration and trained on 3663 datapoints\n",
            "datapoints to be searched from this iteration and trained on 4884 datapoints\n",
            "datapoints to be searched from this iteration and trained on 6104 datapoints\n",
            "datapoints to be searched from this iteration and trained on 7324 datapoints\n",
            "datapoints to be searched from this iteration and trained on 8544 datapoints\n",
            "0.44751131534576416\n"
          ],
          "name": "stdout"
        },
        {
          "output_type": "display_data",
          "data": {
            "image/png": "[encoded data removed]",
            "text/plain": [
              "<Figure size 432x288 with 1 Axes>"
            ]
          },
          "metadata": {
            "tags": [],
            "needs_background": "light"
          }
        },
        {
          "output_type": "stream",
          "text": [
            "0.4527149349451065 0.4166968375444412\n"
          ],
          "name": "stdout"
        }
      ]
    },
    {
      "cell_type": "code",
      "metadata": {
        "id": "tcTdFesNK-4M"
      },
      "source": [
        ""
      ],
      "execution_count": null,
      "outputs": []
    },
    {
      "cell_type": "markdown",
      "metadata": {
        "id": "T2ru6p8JTO-x"
      },
      "source": [
        "### Hyper Parameter: Batch_size *Tune*"
      ]
    },
    {
      "cell_type": "code",
      "metadata": {
        "id": "DW4tSImAJ79K"
      },
      "source": [
        "results=[]\n",
        "batch_size_list=[750,800,850,900,950,1000,1500,2000]\n",
        "batch_size_list=[500,750,800,950,1100,1200,1400,1550,1700]\n",
        "#batch_size_list=[2000,3000]\n",
        "for batch_size in batch_size_list:\n",
        "  print(\"####################\",batch_size,\"###############\")\n",
        "  n=int(len(aux_sorted_indices)/batch_size)\n",
        "  for _ in np.arange(3):\n",
        "    growth=[]\n",
        "    newX=[]\n",
        "    newy=[]\n",
        "    avg=[]\n",
        "    model1=my_model()\n",
        "    for batch_ind in np.array_split(aux_sorted_indices,n):\n",
        "      newX.extend(indexer(X_train,batch_ind))\n",
        "      newy.extend(indexer(y_train,batch_ind))\n",
        "      #print(\"datapoints to be searched from this iteration and trained on\",len(newX),\"datapoints\")\n",
        "      model1=fit_model(np.array(newX),np.array(newy),model1,verbose=0,epochs=30)\n",
        "      growth.append(model1.evaluate(X_test,y_test,verbose=0)[1])\n",
        "    plt.plot(growth)\n",
        "    print(growth[-1])\n",
        "    avg.append(growth[-1])\n",
        "    plt.hlines(NC,0, len(growth))\n",
        "  plt.show()\n",
        "  print(np.average(avg),NC)\n",
        "  results.append(np.average(avg))"
      ],
      "execution_count": null,
      "outputs": []
    },
    {
      "cell_type": "code",
      "metadata": {
        "id": "Rx-EOLM4f-Hx"
      },
      "source": [
        "plt.plot(batch_size_list,results)\n",
        "plt.hlines(NC,min(batch_size_list), max(batch_size_list))"
      ],
      "execution_count": null,
      "outputs": []
    },
    {
      "cell_type": "markdown",
      "metadata": {
        "id": "gtoBhH3kPvLm"
      },
      "source": [
        "## Curriculum: Sent Len"
      ]
    },
    {
      "cell_type": "code",
      "metadata": {
        "id": "e5nGcyl4TBkI",
        "outputId": "66871df9-30ad-4248-e622-da8c562dd277",
        "colab": {
          "base_uri": "https://localhost:8080/",
          "height": 297
        }
      },
      "source": [
        "def length(sentence):\n",
        "  return len(sentence.split(\" \"))\n",
        "scores=[length(i) for i in traindata]\n",
        "# master order is order of indices\n",
        "master_order=sorted(range(len(scores)), key=lambda k: scores[k],reverse=True)\n",
        "import seaborn as sns\n",
        "sns.heatmap(np.array(sorted(scores,reverse=False)).reshape(1,len(scores)))"
      ],
      "execution_count": null,
      "outputs": [
        {
          "output_type": "execute_result",
          "data": {
            "text/plain": [
              "<matplotlib.axes._subplots.AxesSubplot at 0x7f7ffd0dfb38>"
            ]
          },
          "metadata": {
            "tags": []
          },
          "execution_count": 51
        },
        {
          "output_type": "display_data",
          "data": {
            "image/png": "[encoded data removed]",
            "text/plain": [
              "<Figure size 432x288 with 2 Axes>"
            ]
          },
          "metadata": {
            "tags": [],
            "needs_background": "light"
          }
        }
      ]
    },
    {
      "cell_type": "markdown",
      "metadata": {
        "id": "0CIq93EiRh4d"
      },
      "source": [
        "### Baby Steps Regular **Code**"
      ]
    },
    {
      "cell_type": "code",
      "metadata": {
        "id": "Aa0HeBjmTBhu",
        "outputId": "4efc2379-a475-4faf-e872-8a501d403b22",
        "colab": {
          "base_uri": "https://localhost:8080/",
          "height": 1000
        }
      },
      "source": [
        "import time\n",
        "start=time.time()\n",
        "allindices=list(np.arange(len(X_train)))\n",
        "multiruns=[]\n",
        "for rand in np.arange(10):\n",
        "  model=my_model()\n",
        "  model.compile(loss=\"categorical_crossentropy\",metrics=[\"acc\"],optimizer=\"Adam\")\n",
        "  startt=1000\n",
        "  batch_size=900#lstm\n",
        "  batch_size=750#cnn\n",
        "  batch_size=900#alstm\n",
        "  start_indexes=master_order[:startt]\n",
        "  newX=np.array(indexer(X_train,start_indexes))\n",
        "  newy=np.array(indexer(y_train,start_indexes))\n",
        "  top=startt-1\n",
        "  ## half starting\n",
        "  growth=[]\n",
        "  while top+batch_size<len(X_train):\n",
        "    print(\"training on\",len(newX),\"datapoints\")\n",
        "    model = fit_model(newX,newy,model,epochs=30)\n",
        "    t=model.evaluate(X_test,y_test)[1]\n",
        "    print(t,\"performance on test data\")\n",
        "    growth.append(t)\n",
        "    nextindex_list=master_order[top:top+batch_size]###i\n",
        "    newX=np.concatenate([newX,np.array(indexer(X_train,nextindex_list))])## Baby stepd\n",
        "    newy=np.append(newy,np.array(indexer(y_train,nextindex_list)),axis=0)\n",
        "    top=top+batch_size\n",
        "    print(\"=======================================\")\n",
        "  multiruns.append(growth)  \n",
        "end=time.time()\n",
        "TT=end-start"
      ],
      "execution_count": null,
      "outputs": [
        {
          "output_type": "stream",
          "text": [
            "(None, 50)\n",
            "training on 1000 datapoints\n",
            "70/70 [==============================] - 0s 7ms/step - loss: 1.5759 - acc: 0.2389\n",
            "0.23891402781009674 performance on test data\n",
            "=======================================\n",
            "training on 1900 datapoints\n",
            "70/70 [==============================] - 0s 7ms/step - loss: 1.4987 - acc: 0.3837\n",
            "0.38371041417121887 performance on test data\n",
            "=======================================\n",
            "training on 2800 datapoints\n",
            "70/70 [==============================] - 1s 8ms/step - loss: 1.4234 - acc: 0.3946\n",
            "0.39457014203071594 performance on test data\n",
            "=======================================\n",
            "training on 3700 datapoints\n",
            "70/70 [==============================] - 0s 7ms/step - loss: 1.3900 - acc: 0.4127\n",
            "0.41266968846321106 performance on test data\n",
            "=======================================\n",
            "training on 4600 datapoints\n",
            "70/70 [==============================] - 0s 7ms/step - loss: 1.3812 - acc: 0.4104\n",
            "0.41040724515914917 performance on test data\n",
            "=======================================\n",
            "training on 5500 datapoints\n",
            "70/70 [==============================] - 0s 7ms/step - loss: 1.3242 - acc: 0.4172\n",
            "0.41719457507133484 performance on test data\n",
            "=======================================\n",
            "training on 6400 datapoints\n",
            "70/70 [==============================] - 0s 7ms/step - loss: 1.3333 - acc: 0.4249\n",
            "0.42488688230514526 performance on test data\n",
            "=======================================\n",
            "training on 7300 datapoints\n",
            "70/70 [==============================] - 0s 7ms/step - loss: 1.2870 - acc: 0.4588\n",
            "0.4588235318660736 performance on test data\n",
            "=======================================\n",
            "(None, 50)\n",
            "training on 1000 datapoints\n",
            "70/70 [==============================] - 0s 7ms/step - loss: 1.5778 - acc: 0.2923\n",
            "0.29230770468711853 performance on test data\n",
            "=======================================\n",
            "training on 1900 datapoints\n",
            "70/70 [==============================] - 0s 7ms/step - loss: 1.4967 - acc: 0.3665\n",
            "0.3665158450603485 performance on test data\n",
            "=======================================\n",
            "training on 2800 datapoints\n",
            "70/70 [==============================] - 0s 7ms/step - loss: 1.4469 - acc: 0.3742\n",
            "0.37420815229415894 performance on test data\n",
            "=======================================\n",
            "training on 3700 datapoints\n",
            "70/70 [==============================] - 0s 7ms/step - loss: 1.3903 - acc: 0.4100\n",
            "0.4099547564983368 performance on test data\n",
            "=======================================\n",
            "training on 4600 datapoints\n",
            "70/70 [==============================] - 0s 7ms/step - loss: 1.3471 - acc: 0.4285\n",
            "0.4285067915916443 performance on test data\n",
            "=======================================\n",
            "training on 5500 datapoints\n",
            "70/70 [==============================] - 0s 7ms/step - loss: 1.3265 - acc: 0.4294\n",
            "0.42941176891326904 performance on test data\n",
            "=======================================\n",
            "training on 6400 datapoints\n",
            "70/70 [==============================] - 0s 7ms/step - loss: 1.3012 - acc: 0.4502\n",
            "0.4502262473106384 performance on test data\n",
            "=======================================\n",
            "training on 7300 datapoints\n",
            "70/70 [==============================] - 0s 7ms/step - loss: 1.3165 - acc: 0.4258\n",
            "0.42579185962677 performance on test data\n",
            "=======================================\n",
            "(None, 50)\n",
            "training on 1000 datapoints\n",
            "70/70 [==============================] - 0s 7ms/step - loss: 1.5818 - acc: 0.2317\n",
            "0.2316742092370987 performance on test data\n",
            "=======================================\n",
            "training on 1900 datapoints\n",
            "70/70 [==============================] - 1s 8ms/step - loss: 1.4986 - acc: 0.3588\n",
            "0.3588235378265381 performance on test data\n",
            "=======================================\n",
            "training on 2800 datapoints\n",
            "70/70 [==============================] - 0s 7ms/step - loss: 1.4360 - acc: 0.3860\n",
            "0.38597285747528076 performance on test data\n",
            "=======================================\n",
            "training on 3700 datapoints\n",
            "70/70 [==============================] - 0s 7ms/step - loss: 1.3686 - acc: 0.4199\n",
            "0.4199095070362091 performance on test data\n",
            "=======================================\n",
            "training on 4600 datapoints\n",
            "70/70 [==============================] - 0s 7ms/step - loss: 1.3378 - acc: 0.4271\n",
            "0.42714932560920715 performance on test data\n",
            "=======================================\n",
            "training on 5500 datapoints\n",
            "70/70 [==============================] - 0s 7ms/step - loss: 1.3123 - acc: 0.4430\n",
            "0.4429864287376404 performance on test data\n",
            "=======================================\n",
            "training on 6400 datapoints\n",
            "70/70 [==============================] - 0s 7ms/step - loss: 1.3022 - acc: 0.4394\n",
            "0.43936651945114136 performance on test data\n",
            "=======================================\n",
            "training on 7300 datapoints\n",
            "70/70 [==============================] - 0s 7ms/step - loss: 1.3186 - acc: 0.4339\n",
            "0.4339366555213928 performance on test data\n",
            "=======================================\n",
            "(None, 50)\n",
            "training on 1000 datapoints\n",
            "70/70 [==============================] - 0s 7ms/step - loss: 1.5786 - acc: 0.2344\n",
            "0.23438914120197296 performance on test data\n",
            "=======================================\n",
            "training on 1900 datapoints\n",
            "70/70 [==============================] - 0s 7ms/step - loss: 1.5376 - acc: 0.3566\n",
            "0.3565610945224762 performance on test data\n",
            "=======================================\n",
            "training on 2800 datapoints\n",
            "70/70 [==============================] - 0s 7ms/step - loss: 1.4230 - acc: 0.3919\n",
            "0.3918552100658417 performance on test data\n",
            "=======================================\n",
            "training on 3700 datapoints\n",
            "70/70 [==============================] - 0s 7ms/step - loss: 1.4150 - acc: 0.3986\n",
            "0.39864253997802734 performance on test data\n",
            "=======================================\n",
            "training on 4600 datapoints\n",
            "70/70 [==============================] - 1s 8ms/step - loss: 1.3554 - acc: 0.4222\n",
            "0.422171950340271 performance on test data\n",
            "=======================================\n",
            "training on 5500 datapoints\n",
            "70/70 [==============================] - 0s 7ms/step - loss: 1.3412 - acc: 0.4190\n",
            "0.41900452971458435 performance on test data\n",
            "=======================================\n",
            "training on 6400 datapoints\n",
            "70/70 [==============================] - 0s 7ms/step - loss: 1.3067 - acc: 0.4498\n",
            "0.44977375864982605 performance on test data\n",
            "=======================================\n",
            "training on 7300 datapoints\n",
            "70/70 [==============================] - 0s 7ms/step - loss: 1.2939 - acc: 0.4457\n",
            "0.44570136070251465 performance on test data\n",
            "=======================================\n",
            "(None, 50)\n",
            "training on 1000 datapoints\n",
            "70/70 [==============================] - 0s 7ms/step - loss: 1.5821 - acc: 0.2299\n",
            "0.22986425459384918 performance on test data\n",
            "=======================================\n",
            "training on 1900 datapoints\n",
            "70/70 [==============================] - 0s 7ms/step - loss: 1.5083 - acc: 0.3620\n",
            "0.36199095845222473 performance on test data\n",
            "=======================================\n",
            "training on 2800 datapoints\n",
            "70/70 [==============================] - 0s 7ms/step - loss: 1.4511 - acc: 0.3941\n",
            "0.39411765336990356 performance on test data\n",
            "=======================================\n",
            "training on 3700 datapoints\n",
            "70/70 [==============================] - 0s 7ms/step - loss: 1.3764 - acc: 0.4190\n",
            "0.41900452971458435 performance on test data\n",
            "=======================================\n",
            "training on 4600 datapoints\n",
            "70/70 [==============================] - 0s 7ms/step - loss: 1.3365 - acc: 0.4344\n",
            "0.4343891441822052 performance on test data\n",
            "=======================================\n",
            "training on 5500 datapoints\n",
            "70/70 [==============================] - 0s 7ms/step - loss: 1.3269 - acc: 0.4348\n",
            "0.4348416328430176 performance on test data\n",
            "=======================================\n",
            "training on 6400 datapoints\n",
            "70/70 [==============================] - 0s 7ms/step - loss: 1.3071 - acc: 0.4330\n",
            "0.43303167819976807 performance on test data\n",
            "=======================================\n",
            "training on 7300 datapoints\n",
            "70/70 [==============================] - 0s 7ms/step - loss: 1.3043 - acc: 0.4385\n",
            "0.4384615421295166 performance on test data\n",
            "=======================================\n",
            "(None, 50)\n",
            "training on 1000 datapoints\n",
            "70/70 [==============================] - 0s 7ms/step - loss: 1.5717 - acc: 0.2348\n",
            "0.23484162986278534 performance on test data\n",
            "=======================================\n",
            "training on 1900 datapoints\n",
            "70/70 [==============================] - 0s 7ms/step - loss: 1.4615 - acc: 0.3941\n",
            "0.39411765336990356 performance on test data\n",
            "=======================================\n",
            "training on 2800 datapoints\n",
            "70/70 [==============================] - 0s 7ms/step - loss: 1.4117 - acc: 0.4127\n",
            "0.41266968846321106 performance on test data\n",
            "=======================================\n",
            "training on 3700 datapoints\n",
            "70/70 [==============================] - 1s 8ms/step - loss: 1.3679 - acc: 0.4176\n",
            "0.4176470637321472 performance on test data\n",
            "=======================================\n",
            "training on 4600 datapoints\n",
            "70/70 [==============================] - 0s 7ms/step - loss: 1.3248 - acc: 0.4403\n",
            "0.4402714967727661 performance on test data\n",
            "=======================================\n",
            "training on 5500 datapoints\n",
            "70/70 [==============================] - 0s 7ms/step - loss: 1.3410 - acc: 0.4222\n",
            "0.422171950340271 performance on test data\n",
            "=======================================\n",
            "training on 6400 datapoints\n",
            "70/70 [==============================] - 0s 7ms/step - loss: 1.3007 - acc: 0.4443\n",
            "0.4443438947200775 performance on test data\n",
            "=======================================\n",
            "training on 7300 datapoints\n",
            "70/70 [==============================] - 0s 7ms/step - loss: 1.2860 - acc: 0.4624\n",
            "0.46244344115257263 performance on test data\n",
            "=======================================\n",
            "(None, 50)\n",
            "training on 1000 datapoints\n",
            "70/70 [==============================] - 0s 7ms/step - loss: 1.5812 - acc: 0.2312\n",
            "0.23122172057628632 performance on test data\n",
            "=======================================\n",
            "training on 1900 datapoints\n",
            "70/70 [==============================] - 0s 7ms/step - loss: 1.5048 - acc: 0.3656\n",
            "0.36561086773872375 performance on test data\n",
            "=======================================\n",
            "training on 2800 datapoints\n",
            "70/70 [==============================] - 0s 7ms/step - loss: 1.4557 - acc: 0.3864\n",
            "0.38642534613609314 performance on test data\n",
            "=======================================\n",
            "training on 3700 datapoints\n",
            "70/70 [==============================] - 0s 7ms/step - loss: 1.4043 - acc: 0.3964\n",
            "0.39638009667396545 performance on test data\n",
            "=======================================\n",
            "training on 4600 datapoints\n",
            "70/70 [==============================] - 0s 7ms/step - loss: 1.3649 - acc: 0.4181\n",
            "0.4180995523929596 performance on test data\n",
            "=======================================\n",
            "training on 5500 datapoints\n",
            "70/70 [==============================] - 0s 7ms/step - loss: 1.3268 - acc: 0.4294\n",
            "0.42941176891326904 performance on test data\n",
            "=======================================\n",
            "training on 6400 datapoints\n",
            "70/70 [==============================] - 1s 8ms/step - loss: 1.3176 - acc: 0.4290\n",
            "0.42895928025245667 performance on test data\n",
            "=======================================\n",
            "training on 7300 datapoints\n",
            "70/70 [==============================] - 0s 7ms/step - loss: 1.3013 - acc: 0.4294\n",
            "0.42941176891326904 performance on test data\n",
            "=======================================\n",
            "(None, 50)\n",
            "training on 1000 datapoints\n",
            "70/70 [==============================] - 0s 7ms/step - loss: 1.5881 - acc: 0.2317\n",
            "0.2316742092370987 performance on test data\n",
            "=======================================\n",
            "training on 1900 datapoints\n",
            "70/70 [==============================] - 0s 7ms/step - loss: 1.5095 - acc: 0.3584\n",
            "0.3583710491657257 performance on test data\n",
            "=======================================\n",
            "training on 2800 datapoints\n",
            "70/70 [==============================] - 0s 7ms/step - loss: 1.4531 - acc: 0.3914\n",
            "0.3914027214050293 performance on test data\n",
            "=======================================\n",
            "training on 3700 datapoints\n",
            "70/70 [==============================] - 0s 7ms/step - loss: 1.4074 - acc: 0.4036\n",
            "0.4036199152469635 performance on test data\n",
            "=======================================\n",
            "training on 4600 datapoints\n",
            "70/70 [==============================] - 0s 7ms/step - loss: 1.3665 - acc: 0.4127\n",
            "0.41266968846321106 performance on test data\n",
            "=======================================\n",
            "training on 5500 datapoints\n",
            "70/70 [==============================] - 0s 7ms/step - loss: 1.3557 - acc: 0.4045\n",
            "0.40452489256858826 performance on test data\n",
            "=======================================\n",
            "training on 6400 datapoints\n",
            "70/70 [==============================] - 0s 7ms/step - loss: 1.3154 - acc: 0.4326\n",
            "0.4325791895389557 performance on test data\n",
            "=======================================\n",
            "training on 7300 datapoints\n",
            "70/70 [==============================] - 0s 7ms/step - loss: 1.2954 - acc: 0.4398\n",
            "0.43981900811195374 performance on test data\n",
            "=======================================\n",
            "(None, 50)\n",
            "training on 1000 datapoints\n",
            "70/70 [==============================] - 0s 7ms/step - loss: 1.5801 - acc: 0.2498\n",
            "0.2497737556695938 performance on test data\n",
            "=======================================\n",
            "training on 1900 datapoints\n",
            "70/70 [==============================] - 0s 7ms/step - loss: 1.4828 - acc: 0.3665\n",
            "0.3665158450603485 performance on test data\n",
            "=======================================\n",
            "training on 2800 datapoints\n",
            "70/70 [==============================] - 0s 7ms/step - loss: 1.4168 - acc: 0.4167\n",
            "0.41674208641052246 performance on test data\n",
            "=======================================\n",
            "training on 3700 datapoints\n",
            "70/70 [==============================] - 0s 7ms/step - loss: 1.3706 - acc: 0.4262\n",
            "0.4262443482875824 performance on test data\n",
            "=======================================\n",
            "training on 4600 datapoints\n",
            "70/70 [==============================] - 1s 8ms/step - loss: 1.3294 - acc: 0.4362\n",
            "0.4361990988254547 performance on test data\n",
            "=======================================\n",
            "training on 5500 datapoints\n",
            "70/70 [==============================] - 0s 7ms/step - loss: 1.3290 - acc: 0.4217\n",
            "0.4217194616794586 performance on test data\n",
            "=======================================\n",
            "training on 6400 datapoints\n",
            "70/70 [==============================] - 0s 7ms/step - loss: 1.3035 - acc: 0.4312\n",
            "0.43122172355651855 performance on test data\n",
            "=======================================\n",
            "training on 7300 datapoints\n",
            "70/70 [==============================] - 0s 7ms/step - loss: 1.3253 - acc: 0.4294\n",
            "0.42941176891326904 performance on test data\n",
            "=======================================\n",
            "(None, 50)\n",
            "training on 1000 datapoints\n",
            "70/70 [==============================] - 0s 7ms/step - loss: 1.5817 - acc: 0.3285\n",
            "0.32850679755210876 performance on test data\n",
            "=======================================\n",
            "training on 1900 datapoints\n",
            "70/70 [==============================] - 0s 7ms/step - loss: 1.5386 - acc: 0.3498\n",
            "0.3497737646102905 performance on test data\n",
            "=======================================\n",
            "training on 2800 datapoints\n",
            "70/70 [==============================] - 0s 7ms/step - loss: 1.4413 - acc: 0.4018\n",
            "0.401809960603714 performance on test data\n",
            "=======================================\n",
            "training on 3700 datapoints\n",
            "70/70 [==============================] - 0s 7ms/step - loss: 1.3902 - acc: 0.4009\n",
            "0.40090498328208923 performance on test data\n",
            "=======================================\n",
            "training on 4600 datapoints\n",
            "70/70 [==============================] - 0s 7ms/step - loss: 1.3667 - acc: 0.4122\n",
            "0.4122171998023987 performance on test data\n",
            "=======================================\n",
            "training on 5500 datapoints\n",
            "70/70 [==============================] - 0s 7ms/step - loss: 1.3258 - acc: 0.4262\n",
            "0.4262443482875824 performance on test data\n",
            "=======================================\n",
            "training on 6400 datapoints\n",
            "70/70 [==============================] - 0s 7ms/step - loss: 1.3116 - acc: 0.4348\n",
            "0.4348416328430176 performance on test data\n",
            "=======================================\n",
            "training on 7300 datapoints\n",
            "70/70 [==============================] - 1s 8ms/step - loss: 1.3110 - acc: 0.4299\n",
            "0.4298642575740814 performance on test data\n",
            "=======================================\n"
          ],
          "name": "stdout"
        }
      ]
    },
    {
      "cell_type": "code",
      "metadata": {
        "id": "FcRgKhrN7fpa",
        "outputId": "53321c80-8616-4b41-a463-679ab2a5cd8a",
        "colab": {
          "base_uri": "https://localhost:8080/",
          "height": 590
        }
      },
      "source": [
        "otemp=multiruns\n",
        "for growth in otemp:\n",
        "  print(TT)\n",
        "  plt.plot(growth)\n",
        "  plt.hlines(NC,0, len(growth))\n",
        "  print(growth[-1],NC)#batch size 1, starting 50 , AdjCOunts high easier\n",
        "  pickle.dump(growth,open(\"SST_sentlen_900_lstm.pickle\",\"wb\"))"
      ],
      "execution_count": null,
      "outputs": [
        {
          "output_type": "stream",
          "text": [
            "960.0947115421295\n",
            "0.4588235318660736 0.4166968375444412\n",
            "960.0947115421295\n",
            "0.42579185962677 0.4166968375444412\n",
            "960.0947115421295\n",
            "0.4339366555213928 0.4166968375444412\n",
            "960.0947115421295\n",
            "0.44570136070251465 0.4166968375444412\n",
            "960.0947115421295\n",
            "0.4384615421295166 0.4166968375444412\n",
            "960.0947115421295\n",
            "0.46244344115257263 0.4166968375444412\n",
            "960.0947115421295\n",
            "0.42941176891326904 0.4166968375444412\n",
            "960.0947115421295\n",
            "0.43981900811195374 0.4166968375444412\n",
            "960.0947115421295\n",
            "0.42941176891326904 0.4166968375444412\n",
            "960.0947115421295\n",
            "0.4298642575740814 0.4166968375444412\n"
          ],
          "name": "stdout"
        },
        {
          "output_type": "display_data",
          "data": {
            "image/png": "[encoded data removed]",
            "text/plain": [
              "<Figure size 432x288 with 1 Axes>"
            ]
          },
          "metadata": {
            "tags": [],
            "needs_background": "light"
          }
        }
      ]
    },
    {
      "cell_type": "markdown",
      "metadata": {
        "id": "3jY_VCvoBY8f"
      },
      "source": [
        "### Hyper Parameter: Batch_size Tune"
      ]
    },
    {
      "cell_type": "code",
      "metadata": {
        "id": "1cKxoOkmFdiG"
      },
      "source": [
        ""
      ],
      "execution_count": null,
      "outputs": []
    },
    {
      "cell_type": "code",
      "metadata": {
        "id": "0vxFJYgATBd5"
      },
      "source": [
        "results=[]\n",
        "#batch_size_list=[500,600,700,800,900,1000,1100,1200,1300,1400,1500,1600,1700,1800,1900,2000]\n",
        "#batch_size_list=np.arange(1450,2000,100)\n",
        "batch_size_list=[500,600,700,800,900,1000,1100,1200,1300]\n",
        "for batch_size in batch_size_list:\n",
        "  print(\"####################\",batch_size,\"###############\")\n",
        "  randomval=[]\n",
        "  for rand in np.arange(4):\n",
        "    model=my_model()\n",
        "    model.compile(loss=\"categorical_crossentropy\",metrics=[\"acc\"],optimizer=\"Adam\")\n",
        "    allindices=list(np.arange(len(X_train)))\n",
        "    startt=1000\n",
        "    start_indexes=master_order[:startt]\n",
        "    newX=np.array(indexer(X_train,start_indexes))\n",
        "    newy=np.array(indexer(y_train,start_indexes))\n",
        "    top=startt-1\n",
        "    ## half starting\n",
        "    #newX=\n",
        "    growth=[]\n",
        "    while top+batch_size<len(X_train):\n",
        "      #print(\"training on\",len(newX),\"datapoints\")\n",
        "      model = fit_model(newX,newy,model,epochs=30)\n",
        "      t=model.evaluate(X_test,y_test,verbose=0)[1]\n",
        "      #print(t,\"performance on test data\")\n",
        "      growth.append(t)\n",
        "      nextindex_list=master_order[top:top+batch_size]###i\n",
        "      newX=np.concatenate([newX,np.  array(indexer(X_train,nextindex_list))])\n",
        "      newy=np.append(newy,np.array(indexer(y_train,nextindex_list)),axis=0)\n",
        "      top=top+batch_size\n",
        "    randomval.append(growth[-1])\n",
        "  results.append(np.average(randomval))"
      ],
      "execution_count": null,
      "outputs": []
    },
    {
      "cell_type": "code",
      "metadata": {
        "id": "qF_42VbwAE4c",
        "outputId": "3e3c8c32-9de2-42bb-f1dd-3ddd9294f3cf",
        "colab": {
          "base_uri": "https://localhost:8080/",
          "height": 281
        }
      },
      "source": [
        "plt.plot(batch_size_list,results)\n",
        "plt.hlines(NC,700, 1100)"
      ],
      "execution_count": null,
      "outputs": [
        {
          "output_type": "execute_result",
          "data": {
            "text/plain": [
              "<matplotlib.collections.LineCollection at 0x7f49770a4c18>"
            ]
          },
          "metadata": {
            "tags": []
          },
          "execution_count": 76
        },
        {
          "output_type": "display_data",
          "data": {
            "image/png": "[encoded data removed]",
            "text/plain": [
              "<Figure size 432x288 with 1 Axes>"
            ]
          },
          "metadata": {
            "tags": [],
            "needs_background": "light"
          }
        }
      ]
    },
    {
      "cell_type": "code",
      "metadata": {
        "id": "tPWAGm67uYiH",
        "outputId": "1947b41f-700d-4708-8211-bc96dac9818b",
        "colab": {
          "base_uri": "https://localhost:8080/",
          "height": 281
        }
      },
      "source": [
        "plt.plot(batch_size_list,results)\n",
        "plt.hlines(NC,500, 2000)"
      ],
      "execution_count": null,
      "outputs": [
        {
          "output_type": "execute_result",
          "data": {
            "text/plain": [
              "<matplotlib.collections.LineCollection at 0x7f49ce4d6710>"
            ]
          },
          "metadata": {
            "tags": []
          },
          "execution_count": 34
        },
        {
          "output_type": "display_data",
          "data": {
            "image/png": "[encoded data removed]",
            "text/plain": [
              "<Figure size 432x288 with 1 Axes>"
            ]
          },
          "metadata": {
            "tags": [],
            "needs_background": "light"
          }
        }
      ]
    },
    {
      "cell_type": "code",
      "metadata": {
        "id": "rufF0PXBTBZO"
      },
      "source": [
        "plt.plot(batch_size_list,results)\n",
        "plt.hlines(NC,1300, 1600)"
      ],
      "execution_count": null,
      "outputs": []
    }
  ]
}